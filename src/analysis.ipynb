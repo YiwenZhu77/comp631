{
 "cells": [
  {
   "cell_type": "code",
   "execution_count": 3,
   "metadata": {},
   "outputs": [],
   "source": [
    "# analyze the documents\n",
    "import pandas as pd\n",
    "import numpy as np\n",
    "import matplotlib.pyplot as plt"
   ]
  },
  {
   "cell_type": "code",
   "execution_count": 29,
   "metadata": {},
   "outputs": [
    {
     "name": "stdout",
     "output_type": "stream",
     "text": [
      "Number of documents: 44180\n",
      "Average content length: 749.8462200090539\n",
      "Std content length: 661.7117209952926\n"
     ]
    }
   ],
   "source": [
    "dc='../data/artContents_letters_en.xml' # document collection\n",
    "\n",
    "# get it \n",
    "import xml.etree.ElementTree as ET\n",
    "tree = ET.parse(dc)\n",
    "root = tree.getroot()\n",
    "\n",
    "# get the docs\n",
    "docs = root.findall('doc')\n",
    "\n",
    "# print number of docs\n",
    "print('Number of documents:',len(docs))\n",
    "\n",
    "# get contents of the docs\n",
    "# content is the the text of the <field> with name = content\n",
    "contents = [doc.find('field[@name=\"content\"]').text for doc in docs]\n",
    "\n",
    "# print avg and std content length\n",
    "print('Average content length:',np.mean([len(content) for content in contents]))\n",
    "print('Std content length:',np.std([len(content) for content in contents]))"
   ]
  }
 ],
 "metadata": {
  "kernelspec": {
   "display_name": "Python 3 (ipykernel)",
   "language": "python",
   "name": "python3"
  }
 },
 "nbformat": 4,
 "nbformat_minor": 2
}
