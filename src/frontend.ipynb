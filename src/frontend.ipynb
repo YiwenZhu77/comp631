{
 "cells": [
  {
   "cell_type": "code",
   "execution_count": 5,
   "metadata": {},
   "outputs": [],
   "source": [
    "# create a awssome front-end interface app running on a web browser\n",
    "# the input is a text box where the user can input a string\n",
    "# when first input, the app will use solr to search for documents that matches, make input these to Chatbot and return \n",
    "# the follow up will be input to Chatbot"
   ]
  },
  {
   "cell_type": "code",
   "execution_count": 47,
   "metadata": {},
   "outputs": [
    {
     "name": "stdout",
     "output_type": "stream",
     "text": [
      " * Serving Flask app '__main__'\n",
      " * Debug mode: off\n"
     ]
    },
    {
     "name": "stderr",
     "output_type": "stream",
     "text": [
      "\u001b[31m\u001b[1mWARNING: This is a development server. Do not use it in a production deployment. Use a production WSGI server instead.\u001b[0m\n",
      " * Running on http://127.0.0.1:5000\n",
      "\u001b[33mPress CTRL+C to quit\u001b[0m\n"
     ]
    },
    {
     "name": "stderr",
     "output_type": "stream",
     "text": [
      "127.0.0.1 - - [13/Apr/2024 15:30:56] \"GET / HTTP/1.1\" 200 -\n",
      "127.0.0.1 - - [13/Apr/2024 15:30:56] \"\u001b[36mGET /static/chatbot1.png HTTP/1.1\u001b[0m\" 304 -\n",
      "127.0.0.1 - - [13/Apr/2024 15:31:03] \"GET /get?msg=Interplanetary%20network HTTP/1.1\" 200 -\n",
      "127.0.0.1 - - [13/Apr/2024 15:31:16] \"GET /get?msg=Give%20me%20an%20example%20of%20this HTTP/1.1\" 200 -\n"
     ]
    }
   ],
   "source": [
    "#app.py\n",
    "#import files\n",
    "from flask import Flask, render_template, request\n",
    "import ai\n",
    "import pysolr\n",
    "app = Flask(__name__)\n",
    "solr = pysolr.Solr('http://localhost:8983/solr/test', always_commit=True)\n",
    "chat=ai.ChatApp()\n",
    "\n",
    "@app.route(\"/\")\n",
    "def home():    \n",
    "    return render_template(\"index.html\")\n",
    "\n",
    "firstInput=True\n",
    "@app.route(\"/get\")\n",
    "def get_bot_response():    \n",
    "    global firstInput, chat\n",
    "    userText = request.args.get('msg')  \n",
    "    if firstInput:\n",
    "        # use solr to get top 10 documents\n",
    "        results = solr.search('title:'+userText, **{\n",
    "            'rows': 10,\n",
    "            'sort': 'score desc'\n",
    "        })\n",
    "        # results to string\n",
    "        results = [result['content'][0]+'|next|' for result in results]\n",
    "        results = ''.join(results)\n",
    "\n",
    "        firstInput=False\n",
    "        response = chat.chat(results)\n",
    "    else:\n",
    "        response = chat.chat(userText)\n",
    "    \n",
    "    return response\n",
    "if __name__ == \"__main__\":\n",
    "    app.run()"
   ]
  }
 ],
 "metadata": {
  "kernelspec": {
   "display_name": "Python 3 (ipykernel)",
   "language": "python",
   "name": "python3"
  }
 },
 "nbformat": 4,
 "nbformat_minor": 2
}
