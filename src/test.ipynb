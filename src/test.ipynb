{
 "cells": [
  {
   "cell_type": "code",
   "execution_count": 5,
   "metadata": {},
   "outputs": [
    {
     "name": "stdout",
     "output_type": "stream",
     "text": [
      "44180\n"
     ]
    }
   ],
   "source": [
    "# how many items in data\\artContents_letters_en.json\n",
    "\n",
    "import json\n",
    "import os\n",
    "\n",
    "def main():\n",
    "  with open(os.path.join('../data', 'artContents_letters_en.json'), 'r') as f:\n",
    "      data = json.load(f)\n",
    "  print(len(data))\n",
    "\n",
    "if __name__ == '__main__':\n",
    "  main()"
   ]
  }
 ],
 "metadata": {
  "kernelspec": {
   "display_name": "base",
   "language": "python",
   "name": "python3"
  },
  "language_info": {
   "codemirror_mode": {
    "name": "ipython",
    "version": 3
   },
   "file_extension": ".py",
   "mimetype": "text/x-python",
   "name": "python",
   "nbconvert_exporter": "python",
   "pygments_lexer": "ipython3",
   "version": "3.11.5"
  }
 },
 "nbformat": 4,
 "nbformat_minor": 2
}
